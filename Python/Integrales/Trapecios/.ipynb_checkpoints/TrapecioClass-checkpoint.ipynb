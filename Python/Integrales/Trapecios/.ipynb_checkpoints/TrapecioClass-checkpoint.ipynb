{
 "cells": [
  {
   "cell_type": "code",
   "execution_count": 35,
   "id": "dc794f56",
   "metadata": {},
   "outputs": [
    {
     "name": "stdout",
     "output_type": "stream",
     "text": [
      "1.22489463851954\n"
     ]
    }
   ],
   "source": [
    "import sympy as sp\n",
    "import math\n",
    "\n",
    "import sympy as sp\n",
    "\n",
    "class IntegralT:\n",
    "\n",
    "    def __init__(self) -> None:\n",
    "        self.n = None\n",
    "        self.f = None\n",
    "        self.a = None\n",
    "        self.b = None\n",
    "        self.deltax = None\n",
    "        self.lista_xi = []\n",
    "        self.lista_funciones = []\n",
    "        self.resultado = None\n",
    "        self.x = sp.Symbol('x')\n",
    "\n",
    "    def set_f(self, funcion):\n",
    "        self.f = sp.sympify(funcion)\n",
    "        \n",
    "    def get_f(self):\n",
    "        return self.f\n",
    "    \n",
    "    def set_n(self, n):\n",
    "        self.n = n\n",
    "    \n",
    "    def set_intervalo(self, a, b):\n",
    "        self.a = a\n",
    "        self.b = b\n",
    "    \n",
    "    def generar_variables(self):\n",
    "        self.deltax = (self.b - self.a) / self.n\n",
    "    \n",
    "    def generar_resultado(self):\n",
    "        self.generar_variables()\n",
    "        for i in range(self.n + 1):\n",
    "            if (i in [0, self.n]):\n",
    "                xi = self.a + (i * self.deltax)\n",
    "                self.lista_xi.append(xi)\n",
    "                fxi = self.f.subs(sp.Symbol('x'), xi)\n",
    "                self.lista_funciones.append(fxi)\n",
    "            else:\n",
    "                xi = self.a + (i * self.deltax)\n",
    "                self.lista_xi.append(xi)\n",
    "                fxi = self.f.subs(sp.Symbol('x'), xi) * 2\n",
    "                self.lista_funciones.append(fxi)\n",
    "            \n",
    "        self.resultado = ((self.deltax) / 2) * sum(self.lista_funciones)\n",
    "            \n",
    "    def __repr__(self):\n",
    "        \n",
    "        return f\"\"\"[-* Datos integral *-]\n",
    "n = {self.n}\n",
    "intervalo = [{self.a},{self.b}]\n",
    "Δx = {self.deltax}\n",
    "resultado = {self.resultado}\n",
    "        \"\"\"\n",
    "\n",
    "# Primer ejemplo\n",
    "ecu1 = IntegralT()\n",
    "ecu1.set_f(sp.exp(x**5))\n",
    "ecu1.set_n(999)\n",
    "ecu1.set_intervalo(0, 1)\n",
    "ecu1.generar_variables()\n",
    "ecu1.generar_resultado()\n",
    "print(ecu1.resultado)\n"
   ]
  },
  {
   "cell_type": "code",
   "execution_count": null,
   "id": "8faaff04",
   "metadata": {},
   "outputs": [],
   "source": []
  }
 ],
 "metadata": {
  "kernelspec": {
   "display_name": "Python 3 (ipykernel)",
   "language": "python",
   "name": "python3"
  },
  "language_info": {
   "codemirror_mode": {
    "name": "ipython",
    "version": 3
   },
   "file_extension": ".py",
   "mimetype": "text/x-python",
   "name": "python",
   "nbconvert_exporter": "python",
   "pygments_lexer": "ipython3",
   "version": "3.11.5"
  }
 },
 "nbformat": 4,
 "nbformat_minor": 5
}
